{
 "cells": [
  {
   "cell_type": "markdown",
   "id": "9cc54d05-f323-445a-bfe7-c5d43f874182",
   "metadata": {},
   "source": [
    "# Getting Started with a COCO project\n",
    "\n",
    "This notebook shows you how to import a locally stored COCO project into Encord Active.\n",
    "\n",
    "**Prerequisites:** you should have `encord-active[coco]` [installed](https://docs.encord.com/docs/active-installation#coco-extras) and you should have a project available in a COCO format."
   ]
  },
  {
   "cell_type": "code",
   "execution_count": 1,
   "id": "a005e685-9ef0-41cb-add2-2bb916e14f88",
   "metadata": {},
   "outputs": [],
   "source": [
    "# Imports\n",
    "from pathlib import Path\n",
    "from encord_active.cli.utils.coco import import_coco_project"
   ]
  },
  {
   "cell_type": "markdown",
   "id": "f1fab2d3-03a2-4fa3-8cf2-df2d50c2c8c4",
   "metadata": {},
   "source": [
    "## 2. Importing a COCO Project\n",
    "\n",
    "To import a COCO project, you need the root directory of the coco images, e.g., `/path/to/image_dir`, and you need the path to the annotations JSON file, e.g., `/path/to/annotations/annotations.json`.\n",
    "\n",
    "Furthermore, you can optionally specify a `--target`/`-t` which tells Encord Active where to store the data. If you don't specify this, your current working directory will be used.\n",
    "\n",
    "> **Note:** By default, Encord Active will copy the data to the target location. To save space, you can use the `-sym` option instead to only create symlinks. This will save diskspace. But be aware that if you move the original data to a new location, Encord Active will break."
   ]
  },
  {
   "cell_type": "code",
   "execution_count": null,
   "id": "6e5a51c8-cbb3-4df3-9792-6e5bdae57f51",
   "metadata": {},
   "outputs": [],
   "source": [
    "!encord-active import project -i /path/to/image_dir -a /path/to/annotations.json\n",
    "# Optionally you can add the --symlinks flag to avoid copying data and making symlinks instead.\n",
    "\n",
    "# Or with code\n",
    "# images_dir = Path(\"/path/to/image_dir\")\n",
    "# annotations_file = Path(\"/path/to/annotations.json\")\n",
    "# target = Path.cwd()  # or Path(\"/where/you/want/the/data/stored\")\n",
    "# import_coco_project(images_dir, annotations_file, target)  # optionally add: use_symlinks=True to avoid copying data."
   ]
  },
  {
   "cell_type": "markdown",
   "id": "a0acf769-1806-4983-afe8-a06dad52d763",
   "metadata": {},
   "source": [
    "## 3. Open the App\n",
    "\n",
    "Encord Active will now have imported your data and run the prebuilt metric functions on your data.\n",
    "The data will be stored in a subdirectory of the target you specified.\n",
    "\n",
    "You will be able to see the `[name-of-your-project]` from the prints of the import process.\n",
    "\n",
    "You can open the app with the following code block. It should open a new tab in your browser. If not, you can click the link printed to open it."
   ]
  },
  {
   "cell_type": "code",
   "execution_count": null,
   "id": "364bfb71-b28f-47e9-bb14-edf9b626dff6",
   "metadata": {},
   "outputs": [],
   "source": [
    "!encord-active start -t \"[name-of-your-project]\""
   ]
  },
  {
   "cell_type": "markdown",
   "id": "3bed3172-4738-410a-8055-b60dac1a8e31",
   "metadata": {},
   "source": [
    "## 4. Next Steps\n",
    "\n",
    "You may want to import your model predictions as well.\n",
    "\n",
    "For that, you can follow [this part](https://docs.encord.com/docs/active-import-model-predictions) of the documentation.\n",
    "\n",
    "[The docs](https://docs.encord.com/docs/active-workflows) also describe workflows for, e.g., finding outliers in your data."
   ]
  }
 ],
 "metadata": {
  "kernelspec": {
   "display_name": "Python 3 (ipykernel)",
   "language": "python",
   "name": "python3"
  },
  "language_info": {
   "codemirror_mode": {
    "name": "ipython",
    "version": 3
   },
   "file_extension": ".py",
   "mimetype": "text/x-python",
   "name": "python",
   "nbconvert_exporter": "python",
   "pygments_lexer": "ipython3",
   "version": "3.10.8"
  }
 },
 "nbformat": 4,
 "nbformat_minor": 5
}
