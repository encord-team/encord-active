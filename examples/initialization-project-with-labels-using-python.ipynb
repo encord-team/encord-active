{
 "nbformat": 4,
 "nbformat_minor": 0,
 "metadata": {
  "colab": {
   "provenance": [],
   "gpuType": "T4"
  },
  "kernelspec": {
   "name": "python3",
   "display_name": "Python 3"
  },
  "language_info": {
   "name": "python"
  },
  "accelerator": "GPU"
 },
 "cells": [
  {
   "cell_type": "markdown",
   "source": [
    "<div align=\"center\" dir=\"auto\">\n",
    "<p dir=\"auto\"><a href=\"https://colab.research.google.com/github/encord-team/encord-active/blob/main/examples/initialization-project-with-labels-using-python.ipynb\" target=\"_parent\"><img src=\"https://colab.research.google.com/assets/colab-badge.svg\" alt=\"Open In Colab\"/></a>\n",
    "<!--- @encord-active-notebooks {download sandbox project} -->\n",
    "<a target=\"_blank\" rel=\"noopener noreferrer nofollow\" href=\"https://camo.githubusercontent.com/1a088dbe61584d1b213517c05e313c765ca127ce21118626b2d0db0b8f573235/68747470733a2f2f696d672e736869656c64732e696f2f6769746875622f6c6963656e73652f656e636f72642d7465616d2f656e636f72642d616374697665\"><img src=\"https://camo.githubusercontent.com/1a088dbe61584d1b213517c05e313c765ca127ce21118626b2d0db0b8f573235/68747470733a2f2f696d672e736869656c64732e696f2f6769746875622f6c6963656e73652f656e636f72642d7465616d2f656e636f72642d616374697665\" alt=\"Licence\" data-canonical-src=\"https://img.shields.io/github/license/encord-team/encord-active\" style=\"max-width: 100%;\"></a>\n",
    "<a href=\"https://www.piwheels.org/project/encord-active/\" rel=\"nofollow\"><img src=\"https://camo.githubusercontent.com/ad0f13bbb94beadb953a46e51cee0db17ade62e4deb8c306e36a7addfa69d18f/68747470733a2f2f696d672e736869656c64732e696f2f707970692f762f656e636f72642d616374697665\" alt=\"PyPi project\" data-canonical-src=\"https://img.shields.io/pypi/v/encord-active\" style=\"max-width: 100%;\"></a>\n",
    "<a target=\"_blank\" rel=\"noopener noreferrer nofollow\" href=\"https://camo.githubusercontent.com/890ceffab6602e1a6ecac875e179b3984708f98b0a91293e6c632752d11bad7e/68747470733a2f2f696d672e736869656c64732e696f2f707970692f707976657273696f6e732f656e636f72642d616374697665\"><img src=\"https://camo.githubusercontent.com/890ceffab6602e1a6ecac875e179b3984708f98b0a91293e6c632752d11bad7e/68747470733a2f2f696d672e736869656c64732e696f2f707970692f707976657273696f6e732f656e636f72642d616374697665\" alt=\"PyPi version\" data-canonical-src=\"https://img.shields.io/pypi/pyversions/encord-active\" style=\"max-width: 100%;\"></a>\n",
    "\n",
    "<a href=\"https://docs.encord.com/active/docs\" rel=\"nofollow\"><img src=\"https://camo.githubusercontent.com/457447b616a4e5aecccd5351fa78d41ce828901e395b935ad2a94d94db75e5d0/68747470733a2f2f696d672e736869656c64732e696f2f62616467652f646f63732d6f6e6c696e652d626c7565\" alt=\"docs\" data-canonical-src=\"https://img.shields.io/badge/docs-online-blue\" style=\"max-width: 100%;\"></a>\n",
    "<a href=\"https://discord.gg/TU6yT7Uvx3\" rel=\"nofollow\"><img src=\"https://camo.githubusercontent.com/927173d1e92c30f5e17607e8d270d681c6a665591ba93475b070f4e7f5d2e0e9/68747470733a2f2f736869656c64732e696f2f62616467652f446973636f72642d636861742d626c75653f6c6f676f3d646973636f7264266c6f676f436f6c6f723d7768697465\" alt=\"&quot;Join us on Discord&quot;\" data-canonical-src=\"https://shields.io/badge/Discord-chat-blue?logo=discord&amp;logoColor=white\" style=\"max-width: 100%;\"></a>\n",
    "<a href=\"https://github.com/encord-team/encord-active/blob/main/examples/initialization-project-with-labels-using-python.ipynb\" rel=\"nofollow\"><img src=\"https://badges.aleen42.com/src/github.svg\" alt=\"&quot;Encord Notebooks;\" data-canonical-src=\"https://badges.aleen42.com/src/github.svg\" style=\"max-width: 100%;\"></a>\n",
    "\n",
    "\n",
    "</p>\n",
    "<p dir=\"auto\">\n",
    "<a href=\"https://twitter.com/encord_team\" rel=\"nofollow\"><img src=\"https://camo.githubusercontent.com/c7ea37e4d1f0c2e900069152f5990d3bcef4a69c97dede26f08d588958410bd8/68747470733a2f2f696d672e736869656c64732e696f2f747769747465722f666f6c6c6f772f656e636f72645f7465616d3f6c6162656c3d253430656e636f72645f7465616d267374796c653d736f6369616c\" alt=\"Twitter Follow\" data-canonical-src=\"https://img.shields.io/twitter/follow/encord_team?label=%40encord_team&amp;style=social\" style=\"max-width: 100%;\"></a></p>\n",
    "</div>"
   ],
   "metadata": {
    "id": "wXe1PnRgZV-G"
   }
  },
  {
   "cell_type": "markdown",
   "source": [
    "<div align=\"center\">\n",
    "  <p>\n",
    "    <a align=\"center\" href=\"\" target=\"_blank\">\n",
    "      <img\n",
    "        width=\"7232\"\n",
    "        src=\"https://storage.googleapis.com/encord-notebooks/encord_active_notebook_banner.png\">\n",
    "    </a>\n",
    "  </p>\n",
    "</div>"
   ],
   "metadata": {
    "id": "3J2CLN4f0qt0"
   }
  },
  {
   "cell_type": "markdown",
   "metadata": {
    "id": "LzZL1ZhTkkFQ"
   },
   "source": [
    "### ⚠️ Change your runtime environment to GPU\n",
    "`Runtime > Change runtime type`, select GPU as Hardware accelerator."
   ]
  },
  {
   "cell_type": "markdown",
   "source": [
    "# Initialization of a project with labels in Encord Active using Python\n",
    "**Learn how to initialize a project with labels using Python**\n",
    "\n",
    "Project initialization using Python code provides the same functionality as running the [`init`][cli-init] command in the CLI.\n",
    "If you prefer using the CLI, you can refer to the [Quick import data & labels][quick-import-data-guide] guide.\n",
    "\n",
    "[cli-init]: https://docs.encord.com/active/docs/cli#init\n",
    "[quick-import-data-guide]: https://docs.encord.com/active/docs/import/quick-import-data"
   ],
   "metadata": {
    "id": "9LDZ1L52436U"
   }
  },
  {
   "cell_type": "markdown",
   "source": [
    "## Steps to initialize a project with labels"
   ],
   "metadata": {
    "id": "gjlZFkVN52nk"
   }
  },
  {
   "cell_type": "markdown",
   "source": [
    "### 0. Install Encord Active and download sample data"
   ],
   "metadata": {
    "id": "3RtD5qE33wfY"
   }
  },
  {
   "cell_type": "code",
   "source": [
    "!python -m pip install -qq encord-active\n",
    "!encord-active --version"
   ],
   "metadata": {
    "id": "1XNWcQlVaNQn"
   },
   "execution_count": null,
   "outputs": []
  },
  {
   "cell_type": "markdown",
   "source": [
    "Please, restart your runtime before running the next cell.\n",
    "\n",
    "This ensures that any changes made during the installation process take effect and that the environment is properly set up for the subsequent steps."
   ],
   "metadata": {
    "id": "v-pOOCZ7auay"
   }
  },
  {
   "cell_type": "code",
   "source": [
    "#@title 👇🏽 Run this utility code to address colab issues\n",
    "import sys\n",
    "sys.stdout.fileno = lambda: 1\n",
    "sys.stderr.fileno = lambda: 2"
   ],
   "metadata": {
    "id": "29KZ6Q4boYXs"
   },
   "execution_count": null,
   "outputs": []
  },
  {
   "cell_type": "code",
   "source": [
    "from pathlib import Path\n",
    "\n",
    "from encord_active.lib.common.data_utils import download_file\n",
    "from encord_active.lib.project.sandbox_projects import unpack_archive\n",
    "\n",
    "url = \"https://storage.googleapis.com/encord-active-notebook-demos/examples-label-transformers-bounding-boxes.zip\"\n",
    "destination_path = Path(\"./data.zip\")\n",
    "data_path = Path(\"./data\")\n",
    "\n",
    "download_file(url, None, destination_path, cache=False)\n",
    "data_path = unpack_archive(destination_path, data_path)"
   ],
   "metadata": {
    "id": "xg-cqntat13W"
   },
   "execution_count": null,
   "outputs": []
  },
  {
   "cell_type": "markdown",
   "source": [
    "### 1. Choose the images and label files you want to import\n",
    "\n",
    "For example, you can use the glob function to find all the files with the \".jpg\" extension and label files with the \".json\" extension in the data directory, including subdirectories.\n",
    "Customize the logic as needed to include specific files."
   ],
   "metadata": {
    "id": "zj3VrtKa6-JG"
   }
  },
  {
   "cell_type": "code",
   "source": [
    "image_files = list(data_path.glob(\"**/*.jpg\"))\n",
    "label_files = list(data_path.glob(\"**/*.json\"))"
   ],
   "metadata": {
    "id": "hxc5PznxwTNZ"
   },
   "execution_count": null,
   "outputs": []
  },
  {
   "cell_type": "markdown",
   "source": [
    "### 2. Define a class that implements the [`LabelTransformer`][gh-label-transformer-interface] interface and handles the parsing of labels\n",
    "\n",
    "For instance, you can refer to the implementation of the [`BBoxTransformer`][gh-bbox-transformer] class.\n",
    "Instantiate this class to utilize it for including labels in your project.\n",
    "\n",
    "[gh-bbox-transformer]: https://github.com/encord-team/encord-active/blob/main/examples/label-transformers/bounding-boxes/bbox_transformer.py\n",
    "[gh-label-transformer-interface]: https://github.com/encord-team/encord-active/blob/main/src/encord_active/lib/labels/label_transformer.py#L61-L79"
   ],
   "metadata": {
    "id": "6r8Igh8JaTsC"
   }
  },
  {
   "cell_type": "code",
   "source": [
    "%%writefile bbox_transformer.py\n",
    "import json\n",
    "from pathlib import Path\n",
    "from typing import List\n",
    "\n",
    "from encord_active.lib.labels.label_transformer import (\n",
    "    BoundingBox,\n",
    "    BoundingBoxLabel,\n",
    "    DataLabel,\n",
    "    LabelTransformer,\n",
    ")\n",
    "\n",
    "\n",
    "def get_meta_and_labels(label_files: List[Path], extension: str = \".json\"):\n",
    "    meta_file = next((lf for lf in label_files if \"meta\" in lf.stem), None)\n",
    "\n",
    "    if meta_file is None:\n",
    "        raise ValueError(\"No meta file provided\")\n",
    "    meta = json.loads(meta_file.read_text())[\"videos\"]\n",
    "\n",
    "    label_files = [lf for lf in label_files if lf.suffix == extension and lf != meta_file]\n",
    "\n",
    "    return meta, label_files\n",
    "\n",
    "\n",
    "def label_file_to_image(label_file: Path) -> Path:\n",
    "    return label_file.parents[2] / \"JPEGImages\" / label_file.parent.name / f\"{label_file.stem}.jpg\"\n",
    "\n",
    "\n",
    "class BBoxTransformer(LabelTransformer):\n",
    "    def from_custom_labels(self, label_files: List[Path], data_files: List[Path]) -> List[DataLabel]:\n",
    "        meta, label_files = get_meta_and_labels(label_files, extension=\".json\")\n",
    "\n",
    "        out = []\n",
    "        for label_file in label_files:\n",
    "            classes = meta[label_file.parent.name][\"objects\"]\n",
    "\n",
    "            labels = json.loads(label_file.read_text())\n",
    "            image_file = label_file_to_image(label_file)\n",
    "\n",
    "            for instance_id, bbox in labels.items():\n",
    "                out.append(\n",
    "                    DataLabel(\n",
    "                        abs_data_path=image_file,\n",
    "                        label=BoundingBoxLabel(\n",
    "                            class_=classes.get(instance_id, {}).get(\"category\", \"unknown\"),\n",
    "                            bounding_box=BoundingBox(**bbox),\n",
    "                        ),\n",
    "                    )\n",
    "                )\n",
    "        return out"
   ],
   "metadata": {
    "id": "wrKNQ3V8bRGC"
   },
   "execution_count": null,
   "outputs": []
  },
  {
   "cell_type": "code",
   "source": [
    "from bbox_transformer import BBoxTransformer\n",
    "label_transformer = BBoxTransformer()"
   ],
   "metadata": {
    "id": "-RDHH4RdbG6Q"
   },
   "execution_count": null,
   "outputs": []
  },
  {
   "cell_type": "markdown",
   "source": [
    "### 3. Specify the directory where you want to store the Encord Active project\n",
    "\n",
    "It is recommended to keep multiple projects within the same directory for easy navigation within the UI."
   ],
   "metadata": {
    "id": "bkOxeMGW7g8z"
   }
  },
  {
   "cell_type": "code",
   "source": [
    "projects_dir = Path(\"./Encord Active Projects\")"
   ],
   "metadata": {
    "id": "2c_s3gZpxPCH"
   },
   "execution_count": null,
   "outputs": []
  },
  {
   "cell_type": "markdown",
   "source": [
    "### 4. Create the project\n",
    "\n",
    "Note that the `symlinks` option determines whether files are copied (`symlinks=False`) or referenced using symlinks to save disk space (`symlinks=True`).\n"
   ],
   "metadata": {
    "id": "T1ZwFrzP7izy"
   }
  },
  {
   "cell_type": "code",
   "source": [
    "from encord_active.lib.project.local import init_local_project\n",
    "\n",
    "project_path = init_local_project(\n",
    "    files = image_files,\n",
    "    target = projects_dir,\n",
    "    project_name=\"Example project\",\n",
    "    symlinks = True,\n",
    "    label_transformer=label_transformer,\n",
    "    label_paths=label_files,\n",
    ")"
   ],
   "metadata": {
    "id": "gxxk3QDj7rI4"
   },
   "execution_count": null,
   "outputs": []
  },
  {
   "cell_type": "markdown",
   "source": [
    "### 5. Run a metric to ensure proper functioning of the UI"
   ],
   "metadata": {
    "id": "oDex-r8876HS"
   }
  },
  {
   "cell_type": "code",
   "source": [
    "from encord_active.lib.metrics.execute import execute_metrics\n",
    "from encord_active.lib.metrics.heuristic.img_features import AreaMetric\n",
    "\n",
    "execute_metrics(\n",
    "    selected_metrics=[AreaMetric()],\n",
    "    data_dir=project_path,\n",
    "    use_cache_only=True,\n",
    ")"
   ],
   "metadata": {
    "id": "rlOgQJS68Yot"
   },
   "execution_count": null,
   "outputs": []
  },
  {
   "cell_type": "markdown",
   "source": [
    "Alternatively, you can run all metrics related to labels using the following code snippet:"
   ],
   "metadata": {
    "id": "3uLyG9KA75r6"
   }
  },
  {
   "cell_type": "code",
   "source": [
    "from encord_active.lib.metrics.execute import run_metrics_by_embedding_type\n",
    "from encord_active.lib.metrics.types import EmbeddingType\n",
    "\n",
    "run_metrics_by_embedding_type(\n",
    "    EmbeddingType.OBJECT,\n",
    "    data_dir=project_path,\n",
    "    use_cache_only=True,\n",
    ")\n",
    "\n",
    "run_metrics_by_embedding_type(\n",
    "    EmbeddingType.CLASSIFICATION,\n",
    "    data_dir=project_path,\n",
    "    use_cache_only=True,\n",
    ")"
   ],
   "metadata": {
    "id": "zti__i4B8B60"
   },
   "execution_count": null,
   "outputs": []
  }
 ]
}
