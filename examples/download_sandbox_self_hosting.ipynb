{
  "cells": [
    {
      "cell_type": "markdown",
      "metadata": {
        "id": "r37LQkresX2w"
      },
      "source": [
        "# Choose a sandbox project"
      ]
    },
    {
      "cell_type": "code",
      "execution_count": null,
      "metadata": {
        "id": "ZCjkXL8ZwBQJ"
      },
      "outputs": [],
      "source": [
        "from IPython.display import display, Markdown\n",
        "PREBUILT_PROJECT_TO_STORAGE = [\n",
        "    \"[open-source][validation]-coco-2017-dataset\",\n",
        "    \"[open-source][test]-limuc-ulcerative-colitis-classification\",\n",
        "    \"[open-source]-covid-19-segmentations\",\n",
        "    \"[open-source][validation]-bdd-dataset\"\n",
        "]\n",
        "print('Enter Project no to download')\n",
        "for i, key in enumerate(PREBUILT_PROJECT_TO_STORAGE):\n",
        "  print(f\"{i+1}. {key}\")\n",
        "project_name = PREBUILT_PROJECT_TO_STORAGE[int(input('Project no:'))-1]"
      ]
    },
    {
      "cell_type": "markdown",
      "source": [
        "# Open an [ngrok](https://dashboard.ngrok.com/signup) account, and paste your authtoken to the below cell"
      ],
      "metadata": {
        "id": "VuEUb86hFB4U"
      }
    },
    {
      "cell_type": "code",
      "execution_count": null,
      "metadata": {
        "id": "ZsVqcq9UX6jP"
      },
      "outputs": [],
      "source": [
        "!pip install -q pyngrok\n",
        "import getpass\n",
        "from pyngrok import ngrok, conf\n",
        "\n",
        "# From ngrok dashboard, copy your authtoken and paste it here\n",
        "ngrok.set_auth_token(<YOUR_AUTHTOKEN>)\n",
        "\n",
        "for tunnel in ngrok.get_tunnels():\n",
        "    ngrok.disconnect(tunnel.public_url)\n",
        "\n",
        "# Open a tunnel to the HTTP server\n",
        "connection_string = ngrok.connect(8501, headers={'ngrok-skip-browser-warning':'1'}).public_url\n",
        "\n",
        "display(Markdown(f'''\n",
        "---\n",
        "---\n",
        "---\n",
        "\n",
        "# Click [this link]({connection_string}) and wait until this notebook finishes running, then refresh the page.\n",
        "\n",
        "---\n",
        "---\n",
        "---\n",
        "'''\n",
        "))"
      ]
    },
    {
      "cell_type": "markdown",
      "metadata": {
        "id": "WO8IUmYu47a0"
      },
      "source": [
        "## Install python 3.9, acivate it, and install Encord-Active"
      ]
    },
    {
      "cell_type": "code",
      "execution_count": null,
      "metadata": {
        "id": "r6AfzNEESQAX"
      },
      "outputs": [],
      "source": [
        "!sudo apt-get -qq install python3.9 -q\n",
        "!sudo apt -qq install python3.9-distutils -q\n",
        "!sudo update-alternatives --install /usr/bin/python3 python3 /usr/bin/python3.9 10\n",
        "\n",
        "!sudo apt -qq install -q python3-pip\n",
        "!python -m pip install -q --upgrade pip\n",
        "!python -m pip install -q --upgrade setuptools\n",
        "!python -m pip install -q encord-active"
      ]
    },
    {
      "cell_type": "markdown",
      "metadata": {
        "id": "37f1HUrZ5k8B"
      },
      "source": [
        "## Download sandbox project and start the app"
      ]
    },
    {
      "cell_type": "code",
      "execution_count": null,
      "metadata": {
        "colab": {
          "background_save": true
        },
        "id": "KUVsAZqmf4_c"
      },
      "outputs": [],
      "source": [
        "!encord-active config set projects_dir '/content/.'\n",
        "!encord-active download --project-name $project_name\n",
        "display(Markdown('# Now, you can refresh the page'))\n",
        "!encord-active visualise {\"/content/\"+project_name}"
      ]
    }
  ],
  "metadata": {
    "colab": {
      "provenance": []
    },
    "gpuClass": "standard",
    "kernelspec": {
      "display_name": "Python 3",
      "name": "python3"
    },
    "language_info": {
      "name": "python"
    }
  },
  "nbformat": 4,
  "nbformat_minor": 0
}