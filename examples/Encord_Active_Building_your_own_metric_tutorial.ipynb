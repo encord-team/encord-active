{
 "cells": [
  {
   "cell_type": "markdown",
   "metadata": {
    "id": "-n4-PmG0Kwxk"
   },
   "source": [
    "# Building a Custom Metric Function \n",
    "\n",
    "Developing machine learning models are often (and should be) based on iterative hypothesis testing.\n",
    "Typically, you get some data and labels and train your first model.\n",
    "Then, you realise that it's performing worse than you had hoped.\n",
    "\n",
    "Now, you starting hypothesizing about what might be wrong.\n",
    "Perhaps you suspect that the color of each object matters for your model.\n",
    "So you define a hypothesis like:\n",
    "\n",
    "> Object colors have a significant impact on my model performance\n",
    "\n",
    "Traditionally, the next thing you would do is to write a script for filtering, ordering, and visualising your validation data as a function of the object colors.\n",
    "Something like this:\n",
    "\n",
    "<details open=\"1\" style=\"margin-bottom: 2rem; padding: .5rem 1rem; border: solid 1px black;\">\n",
    "<summary style=\"cursor: pointer; font-weight: 600; margin-bottom: 0.5rem\">Codeblock that you can safely hide</summary>\n",
    "\n",
    "```python\n",
    "# DISCLAIMER: This is just to show how much code you need to write to test your hypothesis\n",
    "#             It's not meant to work or to be copied in any way!\n",
    "\n",
    "from functools import partial\n",
    "\n",
    "color_ordering = [] \n",
    "acc = [] \n",
    "\n",
    "def get_colors_for_object(image, object):\n",
    "    # Some code to determine colors\n",
    "    return color_metric\n",
    "\n",
    "for batch in validation_loader:\n",
    "    for image, labels in batch:\n",
    "        predictions = my_model(images)\n",
    "\n",
    "        acc += ... # some hard to write code for match predictions with labels\n",
    "        color_ordering += list(map(partial(get_colors_for_object, image=image), predictions))\n",
    "        \n",
    "color_ordering = np.array(color_ordering)\n",
    "sorting = np.argsort(color_ordering)\n",
    "color_ordering = color_ordering[ordering]\n",
    "acc = np.array(color_ordering)[ordering] \n",
    "\n",
    "# LOONG plotting code section for displaying samples, plots, and what not.\n",
    "# ...\n",
    "# ...\n",
    "# ...\n",
    "```\n",
    "\n",
    "   \n",
    "</details>\n",
    "\n",
    "When you're finally done writing code and plotting things, hopefully you can reach a conclusion regarding your hypothesis.\n",
    "When you reach this point, you will have probably have many more hypothesis that you want to test and eventually also more models to evaluate.\n",
    "Do we need to mention how painful it will be to extend the code above with new use cases, plots, etc.?\n",
    "What if you, for example, wanted to know the same thing, not only for your predictions but also for the labels? What about false negatives? .. and so on.\n",
    "\n",
    "Encord Active solves this problem with a couple of points in focus:\n",
    "\n",
    "1. **Reusability:** You define your metric function once and then you can reuse again and again.\n",
    "2. **Isolation of functionality:** Since the metric function is defined in isolation from other metrics, you won't accidentally introduce errors in other functions, plots, etc.\n",
    "3. **Iteration speed:** we've made it easy to implement your own metric function such that you can iterate faster.\n",
    "4. **It's built from experience:** We have felt this pain many times and we have seen many of the common hypothesis that come up. We're building Encord Active to deel with all these common scenarios while being extensible enough to be tailored to your custom use case.\n",
    "\n",
    "Other points that we want to highlight is that \n",
    "\n",
    "1. Encord Active ships with a bunch of [pre-defined metrics](https://encord-active-docs.web.app/category/metrics) that will automatically be run on your data when you import it.\n",
    "2. When you've [imported your model predictions](), Encord Active will automatically identify those metrics that are more important for your model performance.\n",
    "\n",
    "This tutorial will take you through how to write such metric functions and use them with Encord Active."
   ]
  },
  {
   "cell_type": "markdown",
   "metadata": {
    "id": "ESEt8WweThsO"
   },
   "source": [
    "# Defining a `Metric` sub-class\n",
    "\n",
    "Here, we'll give some detailed information on how a quality metric is defined.\n",
    "\n",
    "> **🌟 Info**: If you don't like abstract talk, you can skip directly to [the example below](#concrete-example) to see how to implement a specific metric.\n",
    "\n",
    "Below we've listed the entire stub for defining a metric. Following right after is a breakdown of the different components."
   ]
  },
  {
   "cell_type": "code",
   "execution_count": null,
   "metadata": {
    "tags": []
   },
   "outputs": [],
   "source": [
    "from encord_active.lib.common.iterator import Iterator\n",
    "from encord_active.lib.metrics.metric import AnnotationType, DataType, MetricType, Metric\n",
    "from encord_active.lib.metrics.writer import CSVMetricWriter\n",
    "\n",
    "class ExampleMetric(Metric):\n",
    "    TITLE = \"[the-name-of-your-metric]\"\n",
    "    METRIC_TYPE = MetricType.HEURISTIC\n",
    "    DATA_TYPE = DataType.IMAGE\n",
    "    ANNOTATION_TYPE = [AnnotationType.OBJECT.BOUNDING_BOX, AnnotationType.OBJECT.POLYGON]\n",
    "    SHORT_DESCRIPTION = \"A short description of your metric.\"\n",
    "    LONG_DESCRIPTION = \"A longer and more detailed description. \" \\\n",
    "                       \"I can use Markdown to _format_ the text.\"\n",
    "\n",
    "    def execute(self, iterator: Iterator, writer: CSVMetricWriter):\n",
    "        valid_annotation_types = {annotation_type.value for annotation_type in self.ANNOTATION_TYPE}\n",
    "\n",
    "        for data_unit, img_pth in iterator.iterate(desc=\"Progress bar description\"):\n",
    "            # Frame level score (data quality)\n",
    "            writer.write(1337, description=\"Your description for the frame [can be omitted]\")\n",
    "            \n",
    "            for obj in data_unit[\"labels\"].get(\"objects\", []):\n",
    "                # Label (object/classification) level score (label / model prediction quality)\n",
    "                if not obj[\"shape\"] in valid_annotation_types:\n",
    "                    continue\n",
    "\n",
    "                # Do your thing (inference)\n",
    "                # ...\n",
    "                # Then\n",
    "                writer.write(42, labels=obj, description=\"Your description of the score [can be omitted]\")"
   ]
  },
  {
   "cell_type": "markdown",
   "metadata": {},
   "source": [
    "Executing a metric on a project follows this structure:"
   ]
  },
  {
   "cell_type": "code",
   "execution_count": null,
   "metadata": {},
   "outputs": [],
   "source": [
    "from pathlib import Path\n",
    "from encord_active.lib.metrics.execute import execute_metric\n",
    "from encord_active.lib.model_predictions.iterator import PredictionIterator\n",
    "\n",
    "target = Path(\"/path/to/your/project\")\n",
    "\n",
    "execute_metric(ExampleMetric(), data_dir=target)  # for labels\n",
    "execute_metric(ExampleMetric(), data_dir=target, iterator_cls=PredictionIterator)  # for predictions (only makes sense to do if your metric applies to labels)\n",
    "\n",
    "# Wrap this entire code block in a \n",
    "# `if __name__ == \"__main__\":`\n",
    "# and put it in the bottom of your metric file if you want to be able to run\n",
    "# python your_metric.py"
   ]
  },
  {
   "cell_type": "markdown",
   "metadata": {},
   "source": [
    "TODO write out what the different components are!"
   ]
  },
  {
   "cell_type": "markdown",
   "metadata": {
    "id": "ESEt8WweThsO"
   },
   "source": [
    "<a id='concrete-example'></a>\n",
    "## Concrete Walk through Example\n",
    "\n",
    "\n",
    "In this example, we'll continue the idea of testing the model performance as a function of the color of individual objects.\n",
    "\n",
    "To get started, let's have a look at the [HSV color space](https://en.wikipedia.org/wiki/HSL_and_HSV), which is great for color filtering.\n",
    "The following code indicate how different Hue (the H from HSV) values correspond to different colors."
   ]
  },
  {
   "cell_type": "code",
   "execution_count": 66,
   "metadata": {
    "tags": []
   },
   "outputs": [
    {
     "data": {
      "image/png": "[encoded data removed]",
      "text/plain": [
       "<Figure size 1000x300 with 18 Axes>"
      ]
     },
     "metadata": {},
     "output_type": "display_data"
    }
   ],
   "source": [
    "import matplotlib.pyplot as plt\n",
    "import cv2\n",
    "import numpy as np\n",
    "\n",
    "def get_img(H: int):\n",
    "    \"\"\"\n",
    "    Make image with specific Hue color and convert it to RGB for plotting.\n",
    "    \"\"\"\n",
    "    img =  np.ones((20, 20, 3), dtype=np.uint8)\n",
    "    img[..., 0] = H\n",
    "    img[..., 1] = 255\n",
    "    img[..., 2] = 150 \n",
    "    return cv2.cvtColor(img, cv2.COLOR_HSV2RGB)\n",
    "\n",
    "# Hue ranges from 0 to 180 and \"wraps\" around.\n",
    "hues = np.linspace(0, 179, 18, dtype=np.uint8)\n",
    "imgs = [get_img(i) for i in hues]\n",
    "\n",
    "fig, ax = plt.subplots(2, 9, figsize=(10, 3))\n",
    "ax = ax.reshape(-1)\n",
    "\n",
    "# Plot the colors\n",
    "for  img, a, h in zip(imgs, ax, hues):\n",
    "    a.set_title(f\"Hue: {h}\")\n",
    "    a.axis('off')\n",
    "    a.imshow(img)\n",
    "\n",
    "fig.tight_layout()\n",
    "plt.show()"
   ]
  },
  {
   "cell_type": "markdown",
   "metadata": {},
   "source": [
    "Note how the first and the last images are very close in terms of color, but has a very different hue value. \n",
    "This is because of the \"circular\" / \"wrap-around\" nature of the color space. \n",
    "Let's account for that by computing a value, which is similar for similar colors."
   ]
  },
  {
   "cell_type": "code",
   "execution_count": 67,
   "metadata": {
    "tags": []
   },
   "outputs": [
    {
     "data": {
      "image/png": "[encoded data removed]",
      "text/plain": [
       "<Figure size 1000x300 with 18 Axes>"
      ]
     },
     "metadata": {},
     "output_type": "display_data"
    }
   ],
   "source": [
    "def transform_hue(H: int):\n",
    "    return (90 - np.abs(h - 90)) / 90\n",
    "\n",
    "# Plotting\n",
    "fig, ax = plt.subplots(2, 9, figsize=(10, 3))\n",
    "ax = ax.reshape(-1)\n",
    "\n",
    "for img, a, h in zip(imgs, ax, hues):\n",
    "    t = transform_hue(h)\n",
    "    a.set_title(f\"Transf.: {t:.2f}\")\n",
    "    a.imshow(img)\n",
    "    a.axis('off')\n",
    "fig.tight_layout()"
   ]
  },
  {
   "cell_type": "markdown",
   "metadata": {
    "tags": []
   },
   "source": [
    "Alright, this looks better.\n",
    "The transformed value is a better candidate for our metric function.\n",
    "\n",
    "Next, we'll "
   ]
  },
  {
   "cell_type": "code",
   "execution_count": null,
   "metadata": {
    "colab": {
     "base_uri": "https://localhost:8080/"
    },
    "id": "cItsCLacS2Gx",
    "outputId": "39d039b2-03b9-4b2b-e9ce-d8b3dbf61745",
    "tags": []
   },
   "outputs": [
    {
     "name": "stdout",
     "output_type": "stream",
     "text": [
      "Writing metric.py\n"
     ]
    }
   ],
   "source": [
    "%%file metric.py\n",
    "from collections import defaultdict\n",
    "\n",
    "import numpy as np\n",
    "from encord_active.lib.common import utils\n",
    "from encord_active.lib.common.iterator import Iterator\n",
    "from encord_active.lib.metrics.metric import AnnotationType, DataType, Metric, MetricType\n",
    "from encord_active.lib.metrics.writer import CSVMetricWriter\n",
    "from loguru import logger\n",
    "\n",
    "logger = logger.opt(colors=True)\n",
    "\n",
    "\n",
    "class InstanceDeviation(Metric):\n",
    "    TITLE = \"Instance Deviation\"\n",
    "    METRIC_TYPE = MetricType.HEURISTIC\n",
    "    DATA_TYPE = DataType.IMAGE\n",
    "    ANNOTATION_TYPE = [AnnotationType.OBJECT.BOUNDING_BOX, AnnotationType.OBJECT.POLYGON]\n",
    "    SHORT_DESCRIPTION = \"Find deviation of an object's instance comparing it to its other instances.\"\n",
    "    LONG_DESCRIPTION = r\"\"\"Find deviation of an object's instance comparing it to its other instances.  \n",
    "Deviation is calculated using center of the objects.\n",
    "\"\"\"\n",
    "\n",
    "    def test(self, iterator: Iterator, writer: CSVMetricWriter):\n",
    "        valid_annotation_types = {annotation_type.value for annotation_type in self.ANNOTATION_TYPE}\n",
    "\n",
    "        object_hash_to_centroids = defaultdict(dict)\n",
    "\n",
    "        # Separate objects' instances (same objectHash [aka track id] means same object instance)\n",
    "        for data_unit, img_pth in iterator.iterate(desc=\"Custom progress description\"):\n",
    "            frame_id = data_unit[\"data_sequence\"]\n",
    "            for obj in data_unit[\"labels\"].get(\"objects\", []):\n",
    "                # Only analyse objects with valid shapes (bounding boxes and polygons)\n",
    "                if not obj[\"shape\"] in valid_annotation_types:\n",
    "                    continue\n",
    "                obj_hash = obj[\"objectHash\"]\n",
    "                # Check out 'utils.get_object_coordinates' to learn more about Encord's object coordinates extraction\n",
    "                poly = utils.get_polygon(obj)\n",
    "                if poly is not None:\n",
    "                    obj_centroid = tuple(poly.centroid.coords)\n",
    "                    object_hash_to_centroids[obj_hash][frame_id] = obj_centroid\n",
    "\n",
    "        # Calculate deviation\n",
    "        object_hash_to_centroid_mean = defaultdict(float)\n",
    "        for obj_hash, centroids in object_hash_to_centroids.items():\n",
    "            centroid_mean = sum(centroids.values(), np.array([0, 0])) / len(centroids)\n",
    "            object_hash_to_centroid_mean[obj_hash] = centroid_mean\n",
    "\n",
    "        # Evaluate deviation on each object instance and save it\n",
    "        for data_unit, img_pth in iterator.iterate(desc=\"Custom progress description\"):\n",
    "            frame_id = data_unit[\"data_sequence\"]\n",
    "            for obj in data_unit[\"labels\"].get(\"objects\", []):\n",
    "                # Only analyse objects with valid shapes (bounding boxes and polygons)\n",
    "                if not obj[\"shape\"] in valid_annotation_types:\n",
    "                    continue\n",
    "                obj_hash = obj[\"objectHash\"]\n",
    "                if frame_id in object_hash_to_centroids[obj_hash].keys():\n",
    "                    obj_centroid = object_hash_to_centroids[obj_hash][frame_id]\n",
    "                    obj_score = np.linalg.norm(obj_centroid - object_hash_to_centroid_mean[obj_hash])\n",
    "                    writer.write(obj_score, labels=obj)\n",
    "\n",
    "if __name__ == \"__main__\":\n",
    "    import sys\n",
    "    from pathlib import Path\n",
    "\n",
    "    from encord_active.lib.metric.execute import perform_test\n",
    "\n",
    "    path = sys.argv[1]\n",
    "    perform_test(InstanceDeviation(), data_dir=Path(path), use_cache_only=True)"
   ]
  },
  {
   "cell_type": "markdown",
   "metadata": {
    "id": "Qjh5slo_KoQn"
   },
   "source": [
    "## Download a prebuilt project"
   ]
  },
  {
   "cell_type": "code",
   "execution_count": null,
   "metadata": {
    "colab": {
     "base_uri": "https://localhost:8080/"
    },
    "collapsed": true,
    "id": "SyWVdBqac8N0",
    "jupyter": {
     "outputs_hidden": true,
     "source_hidden": true
    },
    "outputId": "197f059a-944c-467a-f467-1c1c8c53f98c",
    "tags": []
   },
   "outputs": [
    {
     "name": "stdout",
     "output_type": "stream",
     "text": [
      "2022-12-09 10:55:28.810 INFO    matplotlib.font_manager: generated new fontManager\n",
      "Traceback (most recent call last):\n",
      "  File \"/usr/local/bin/encord-active\", line 5, in <module>\n",
      "    from encord_active.app.main import cli\n",
      "  File \"/usr/local/lib/python3.9/dist-packages/encord_active/app/main.py\", line 18, in <module>\n",
      "    from encord_active.lib.coco.importer import CocoImporter\n",
      "  File \"/usr/local/lib/python3.9/dist-packages/encord_active/lib/coco/importer.py\", line 19, in <module>\n",
      "    from encord_active.lib.coco.parsers import (\n",
      "  File \"/usr/local/lib/python3.9/dist-packages/encord_active/lib/coco/parsers.py\", line 11, in <module>\n",
      "    from encord_active.lib.coco.utils import annToMask\n",
      "  File \"/usr/local/lib/python3.9/dist-packages/encord_active/lib/coco/utils.py\", line 6, in <module>\n",
      "    from pycocotools.mask import decode, frPyObjects, merge\n",
      "ModuleNotFoundError: No module named 'pycocotools'\n",
      "Traceback (most recent call last):\n",
      "  File \"/usr/local/bin/encord-active\", line 5, in <module>\n",
      "    from encord_active.app.main import cli\n",
      "  File \"/usr/local/lib/python3.9/dist-packages/encord_active/app/main.py\", line 18, in <module>\n",
      "    from encord_active.lib.coco.importer import CocoImporter\n",
      "  File \"/usr/local/lib/python3.9/dist-packages/encord_active/lib/coco/importer.py\", line 19, in <module>\n",
      "    from encord_active.lib.coco.parsers import (\n",
      "  File \"/usr/local/lib/python3.9/dist-packages/encord_active/lib/coco/parsers.py\", line 11, in <module>\n",
      "    from encord_active.lib.coco.utils import annToMask\n",
      "  File \"/usr/local/lib/python3.9/dist-packages/encord_active/lib/coco/utils.py\", line 6, in <module>\n",
      "    from pycocotools.mask import decode, frPyObjects, merge\n",
      "ModuleNotFoundError: No module named 'pycocotools'\n"
     ]
    }
   ],
   "source": [
    "project_name = \"[open-source]-covid-19-segmentations\"\n",
    "\n",
    "!encord-active config set projects_dir '/content/.'\n",
    "!encord-active download --project-name $project_name"
   ]
  },
  {
   "cell_type": "markdown",
   "metadata": {
    "id": "eyB_-PY8O-Q6",
    "jupyter": {
     "source_hidden": true
    },
    "tags": []
   },
   "source": [
    "## Run the custom metric on the project"
   ]
  },
  {
   "cell_type": "code",
   "execution_count": null,
   "metadata": {
    "colab": {
     "base_uri": "https://localhost:8080/"
    },
    "collapsed": true,
    "id": "AuX2ZLC3hzGS",
    "jupyter": {
     "outputs_hidden": true
    },
    "outputId": "5f377dde-41ba-40a0-83db-53416673a946",
    "tags": []
   },
   "outputs": [
    {
     "name": "stdout",
     "output_type": "stream",
     "text": [
      "\u001b[32m2022-12-09 10:55:33.283\u001b[0m | \u001b[31m\u001b[1mERROR   \u001b[0m | \u001b[36mencord_active.lib.common.utils\u001b[0m:\u001b[36mfetch_project_info\u001b[0m:\u001b[36m21\u001b[0m - \u001b[31m\u001b[1mCouldn't find meta file for project\u001b[0m\n",
      "\u001b[32m2022-12-09 10:55:33.283\u001b[0m | \u001b[31m\u001b[1mERROR   \u001b[0m | \u001b[36m__main__\u001b[0m:\u001b[36m<module>\u001b[0m:\u001b[36m68\u001b[0m - \u001b[31m\u001b[1mAn error has been caught in function '<module>', process 'MainProcess' (1055), thread 'MainThread' (140117598545792):\u001b[0m\n",
      "\u001b[33m\u001b[1mTraceback (most recent call last):\u001b[0m\n",
      "\n",
      "> File \"\u001b[32m/content/\u001b[0m\u001b[32m\u001b[1mmetric.py\u001b[0m\", line \u001b[33m68\u001b[0m, in \u001b[35m<module>\u001b[0m\n",
      "    \u001b[1mperform_test\u001b[0m\u001b[1m(\u001b[0m\u001b[1mInstanceDeviation\u001b[0m\u001b[1m(\u001b[0m\u001b[1m)\u001b[0m\u001b[1m,\u001b[0m \u001b[1mdata_dir\u001b[0m\u001b[35m\u001b[1m=\u001b[0m\u001b[1mPath\u001b[0m\u001b[1m(\u001b[0m\u001b[1mpath\u001b[0m\u001b[1m)\u001b[0m\u001b[1m,\u001b[0m \u001b[1muse_cache_only\u001b[0m\u001b[35m\u001b[1m=\u001b[0m\u001b[36m\u001b[1mTrue\u001b[0m\u001b[1m)\u001b[0m\n",
      "    \u001b[36m│            │                             │    └ \u001b[0m\u001b[36m\u001b[1m'/content/[open-source]-covid-19-segmentations'\u001b[0m\n",
      "    \u001b[36m│            │                             └ \u001b[0m\u001b[36m\u001b[1m<class 'pathlib.Path'>\u001b[0m\n",
      "    \u001b[36m│            └ \u001b[0m\u001b[36m\u001b[1m<class '__main__.InstanceDeviation'>\u001b[0m\n",
      "    \u001b[36m└ \u001b[0m\u001b[36m\u001b[1m<function perform_test at 0x7f6f8f35ea60>\u001b[0m\n",
      "\n",
      "  File \"\u001b[32m/usr/local/lib/python3.9/dist-packages/encord_active/lib/common/\u001b[0m\u001b[32m\u001b[1mtester.py\u001b[0m\", line \u001b[33m42\u001b[0m, in \u001b[35mperform_test\u001b[0m\n",
      "    \u001b[1mproject\u001b[0m \u001b[35m\u001b[1m=\u001b[0m \u001b[1mfetch_project_info\u001b[0m\u001b[1m(\u001b[0m\u001b[1mdata_dir\u001b[0m\u001b[1m)\u001b[0m\n",
      "    \u001b[36m          │                  └ \u001b[0m\u001b[36m\u001b[1mPosixPath('/content/[open-source]-covid-19-segmentations')\u001b[0m\n",
      "    \u001b[36m          └ \u001b[0m\u001b[36m\u001b[1m<function fetch_project_info at 0x7f6fa1c3b430>\u001b[0m\n",
      "\n",
      "  File \"\u001b[32m/usr/local/lib/python3.9/dist-packages/encord_active/lib/common/\u001b[0m\u001b[32m\u001b[1mutils.py\u001b[0m\", line \u001b[33m23\u001b[0m, in \u001b[35mfetch_project_info\u001b[0m\n",
      "    \u001b[35m\u001b[1mwith\u001b[0m \u001b[1mmeta_file\u001b[0m\u001b[35m\u001b[1m.\u001b[0m\u001b[1mopen\u001b[0m\u001b[1m(\u001b[0m\u001b[36m\"r\"\u001b[0m\u001b[1m,\u001b[0m \u001b[1mencoding\u001b[0m\u001b[35m\u001b[1m=\u001b[0m\u001b[36m\"utf-8\"\u001b[0m\u001b[1m)\u001b[0m \u001b[35m\u001b[1mas\u001b[0m \u001b[1mf\u001b[0m\u001b[1m:\u001b[0m\n",
      "    \u001b[36m     │         └ \u001b[0m\u001b[36m\u001b[1m<function Path.open at 0x7f6fa405e9d0>\u001b[0m\n",
      "    \u001b[36m     └ \u001b[0m\u001b[36m\u001b[1mPosixPath('/content/[open-source]-covid-19-segmentations/project_meta.yaml')\u001b[0m\n",
      "\n",
      "  File \"/usr/lib/python3.9/pathlib.py\", line 1252, in open\n",
      "    return io.open(self, mode, buffering, encoding, errors, newline,\n",
      "           │  │    │     │     │          │         │       └ None\n",
      "           │  │    │     │     │          │         └ None\n",
      "           │  │    │     │     │          └ 'utf-8'\n",
      "           │  │    │     │     └ -1\n",
      "           │  │    │     └ 'r'\n",
      "           │  │    └ PosixPath('/content/[open-source]-covid-19-segmentations/project_meta.yaml')\n",
      "           │  └ <built-in function open>\n",
      "           └ <module 'io' from '/usr/lib/python3.9/io.py'>\n",
      "  File \"/usr/lib/python3.9/pathlib.py\", line 1120, in _opener\n",
      "    return self._accessor.open(self, flags, mode)\n",
      "           │    │              │     │      └ 438\n",
      "           │    │              │     └ 524288\n",
      "           │    │              └ PosixPath('/content/[open-source]-covid-19-segmentations/project_meta.yaml')\n",
      "           │    └ <member '_accessor' of 'Path' objects>\n",
      "           └ PosixPath('/content/[open-source]-covid-19-segmentations/project_meta.yaml')\n",
      "\n",
      "\u001b[31m\u001b[1mFileNotFoundError\u001b[0m:\u001b[1m [Errno 2] No such file or directory: '/content/[open-source]-covid-19-segmentations/project_meta.yaml'\u001b[0m\n"
     ]
    }
   ],
   "source": [
    "!python metric.py \"/content/\"$project_name"
   ]
  }
 ],
 "metadata": {
  "colab": {
   "provenance": []
  },
  "kernelspec": {
   "display_name": "Python 3 (ipykernel)",
   "language": "python",
   "name": "python3"
  },
  "language_info": {
   "codemirror_mode": {
    "name": "ipython",
    "version": 3
   },
   "file_extension": ".py",
   "mimetype": "text/x-python",
   "name": "python",
   "nbconvert_exporter": "python",
   "pygments_lexer": "ipython3",
   "version": "3.10.8"
  }
 },
 "nbformat": 4,
 "nbformat_minor": 4
}
