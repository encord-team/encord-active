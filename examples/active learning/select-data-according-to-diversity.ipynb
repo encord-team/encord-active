{
 "cells": [
  {
   "cell_type": "markdown",
   "source": [
    "# Select the most diverse set of images to label next with active learning\n",
    "\n",
    "*This notebook shows how to use diversity sampling acquisiton metric to rank not not images\n",
    "We assume that you already have installed encord-active in your local environment, if not please visit [here](https://docs.encord.com/active/docs/installation).*"
   ],
   "metadata": {
    "collapsed": false
   }
  }
 ],
 "metadata": {
  "kernelspec": {
   "display_name": "Python 3",
   "language": "python",
   "name": "python3"
  },
  "language_info": {
   "codemirror_mode": {
    "name": "ipython",
    "version": 2
   },
   "file_extension": ".py",
   "mimetype": "text/x-python",
   "name": "python",
   "nbconvert_exporter": "python",
   "pygments_lexer": "ipython2",
   "version": "2.7.6"
  }
 },
 "nbformat": 4,
 "nbformat_minor": 0
}
