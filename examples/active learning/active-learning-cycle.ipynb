{
 "cells": [
  {
   "cell_type": "markdown",
   "metadata": {
    "collapsed": true
   },
   "source": [
    "# Load your model"
   ]
  },
  {
   "cell_type": "code",
   "execution_count": null,
   "metadata": {},
   "outputs": [],
   "source": [
    "model = None"
   ]
  },
  {
   "cell_type": "markdown",
   "metadata": {},
   "source": [
    "# Match your model's methods to those required in Encord Active"
   ]
  },
  {
   "cell_type": "markdown",
   "metadata": {},
   "source": [
    "To use your model with Encord Active acquisition functions you will first need to state:\n",
    "1. How to read/prepare the data samples for your model.\n",
    "2. How to compute the model-predicted class probabilities of the examples in the prepared data samples.\n",
    "\n",
    "There are several approaches you can use to interface your model's behaviour with the one expected in the acquisition functions, like taking advantage of the integration with **scikit-learn** models or even creating your own integration.\n",
    "\n",
    "**Note**: Encord Active only access your model in read mode, so you don't have to worry about contamination."
   ]
  },
  {
   "cell_type": "markdown",
   "metadata": {},
   "source": [
    "## Approach 1. Integration with **scikit-learn** models"
   ]
  },
  {
   "cell_type": "markdown",
   "metadata": {},
   "source": [
    "Encord Active provides a seamless integration with *scikit-learn* models via `SKLearnModelWrapper`.\n",
    "\n",
    "That wrapper also contains a basic implementation on how to read and prepare images to be feed to the model. Such implementation can be improved overriding the method `SKLearnModelWrapper.prepare_data()`."
   ]
  },
  {
   "cell_type": "code",
   "execution_count": null,
   "metadata": {},
   "outputs": [],
   "source": [
    "from encord_active.lib.metrics.acquisition_functions import SKLearnModelWrapper\n",
    "\n",
    "w_model = SKLearnModelWrapper(model)"
   ]
  },
  {
   "cell_type": "markdown",
   "metadata": {},
   "source": [
    "**Note**: If your model implements `predict_proba()` function, you can directly use ``SKLearnModelWrapper``, even if it isn't a *scikit-learn* model, as that wrapper assumes the existence of such function to extract the model-predicted class probabilities. "
   ]
  },
  {
   "cell_type": "markdown",
   "metadata": {},
   "source": [
    "## Approach 2. Custom model integration"
   ]
  },
  {
   "cell_type": "markdown",
   "metadata": {},
   "source": [
    "Encord Active provides an abstract class `BaseModelWrapper` for you to interface your custom model's behaviour.\n",
    "\n",
    "You should create a class that inherits from `BaseModelWrapper` and implements the abstract methods:\n",
    "1. `prepare_data(..)` - reads the data samples and get them ready to be feed to the model\n",
    "2. `_predict_proba(..)` - returns the model-predicted class probabilities of the examples in the data samples\n",
    "\n",
    "**Note**: You can access the original model contained in the wrapper via `wrapper._model`."
   ]
  },
  {
   "cell_type": "code",
   "execution_count": null,
   "metadata": {},
   "outputs": [],
   "source": [
    "from PIL import Image\n",
    "from encord_active.lib.metrics.acquisition_functions import BaseModelWrapper\n",
    "\n",
    "class MyModelWrapper(BaseModelWrapper):\n",
    "    @classmethod\n",
    "    def prepare_data(cls, data_path):\n",
    "        return [np.asarray(Image.open(data_path)).flatten() / 255]\n",
    "    \n",
    "    def _predict_proba(self, X):\n",
    "        return self._model.predict_proba(X)"
   ]
  },
  {
   "cell_type": "markdown",
   "metadata": {},
   "source": [
    "# Choose the acquisition function to run"
   ]
  },
  {
   "cell_type": "markdown",
   "metadata": {},
   "source": []
  },
  {
   "cell_type": "code",
   "execution_count": null,
   "metadata": {},
   "outputs": [],
   "source": []
  },
  {
   "cell_type": "markdown",
   "metadata": {},
   "source": [
    "# Run the acquisition function over your data"
   ]
  },
  {
   "cell_type": "markdown",
   "metadata": {},
   "source": []
  },
  {
   "cell_type": "code",
   "execution_count": null,
   "metadata": {},
   "outputs": [],
   "source": []
  }
 ],
 "metadata": {
  "kernelspec": {
   "display_name": "Python 3 (ipykernel)",
   "language": "python",
   "name": "python3"
  },
  "language_info": {
   "codemirror_mode": {
    "name": "ipython",
    "version": 3
   },
   "file_extension": ".py",
   "mimetype": "text/x-python",
   "name": "python",
   "nbconvert_exporter": "python",
   "pygments_lexer": "ipython3",
   "version": "3.9.13"
  }
 },
 "nbformat": 4,
 "nbformat_minor": 1
}
