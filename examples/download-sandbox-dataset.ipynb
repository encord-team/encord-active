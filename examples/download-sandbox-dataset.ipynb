{
 "cells": [
  {
   "cell_type": "markdown",
   "metadata": {
    "id": "r37LQkresX2w"
   },
   "source": [
    "# Download a sandbox dataset\n",
    "\n",
    "**Prerequisites:**\n",
    "You need to have encord-active [installed](https://encord-active-docs.web.app/installation).\n",
    "\n",
    "This notebook shows you how to download a sandbox dataset through code.\n",
    "It follows three steps.\n",
    "\n",
    "1. Choose a dataset to download\n",
    "2. Download the dataset\n",
    "3. Open the app\n",
    "\n",
    "_Tip:_ this is equivalent to running\n",
    "\n",
    "```shell\n",
    "encord-active download --project-name \"[project-name]\"\n",
    "encord-active visualise -t \"[project-name]\"\n",
    "```\n",
    "\n",
    "For example:\n",
    "```shell\n",
    "encord-active download --project-name quickstart\n",
    "encord-active visualise -t quickstart\n",
    "```\n"
   ]
  },
  {
   "cell_type": "code",
   "execution_count": null,
   "metadata": {
    "id": "ZCjkXL8ZwBQJ"
   },
   "outputs": [],
   "source": [
    "from pathlib import Path\n",
    "\n",
    "from encord_active.lib.project.sandbox_projects import PREBUILT_PROJECTS, fetch_prebuilt_project\n",
    "from encord_active.cli.utils.streamlit import launch_streamlit_app\n",
    "\n",
    "# List available sandbox projects\n",
    "PREBUILT_PROJECT_TO_STORAGE = list(PREBUILT_PROJECTS.keys())\n",
    "\n",
    "print('Available projects:')\n",
    "for i, key in enumerate(PREBUILT_PROJECT_TO_STORAGE):\n",
    "  print(f\"{i}. {key}\")\n",
    "project_name = PREBUILT_PROJECT_TO_STORAGE[int(input('Project no:'))]\n",
    "\n",
    "# Choose where to store the data\n",
    "project_path = Path.cwd() / project_name\n",
    "\n",
    "# Download the dataset\n",
    "fetch_prebuilt_project(project_name, project_path)\n",
    "\n",
    "# Open the app\n",
    "!encord-active visualise -t \"$project_path\""
   ]
  }
 ],
 "metadata": {
  "colab": {
   "provenance": []
  },
  "gpuClass": "standard",
  "kernelspec": {
   "display_name": "Python 3 (ipykernel)",
   "language": "python",
   "name": "python3"
  },
  "language_info": {
   "codemirror_mode": {
    "name": "ipython",
    "version": 3
   },
   "file_extension": ".py",
   "mimetype": "text/x-python",
   "name": "python",
   "nbconvert_exporter": "python",
   "pygments_lexer": "ipython3",
   "version": "3.10.8"
  }
 },
 "nbformat": 4,
 "nbformat_minor": 4
}
