{
  "cells": [
    {
      "cell_type": "markdown",
      "source": [
        "# Generate SSH key pairs to get connected to the Encord platform\n",
        "\n",
        "\n",
        "\n",
        "\n"
      ],
      "metadata": {
        "id": "r37LQkresX2w"
      }
    },
    {
      "cell_type": "code",
      "source": [
        "from IPython.display import display, Markdown\n",
        "\n",
        "!ssh-keygen -t ed25519 -f ssh_key -N ''\n",
        "with open('/content/ssh_key.pub', 'r') as f:\n",
        "  public_key = f.read()"
      ],
      "metadata": {
        "id": "ZCjkXL8ZwBQJ"
      },
      "execution_count": null,
      "outputs": []
    },
    {
      "cell_type": "code",
      "source": [
        "display(Markdown(f'''\n",
        "# Steps to register public SSH key to encord\n",
        "1. Open [Encord](https://app.encord.com).\n",
        "2. Go to **User => Settings => Public keys => + New key**.\n",
        "3. Write   \n",
        "   **Temporary Colab Key**   \n",
        "   as title and paste  \n",
        "   {public_key}    \n",
        "   to the public key area.\n",
        "4. Now, you can import your projects.\n",
        "\n",
        "'''))\n"
      ],
      "metadata": {
        "id": "WnRPFcieJRWX"
      },
      "execution_count": null,
      "outputs": []
    },
    {
      "cell_type": "code",
      "source": [
        "!python -m pip install -q encord\n",
        "from encord import EncordUserClient\n",
        "from pathlib import Path\n",
        "\n",
        "client = EncordUserClient.create_with_ssh_private_key(Path('/content/ssh_key').expanduser().read_text())\n",
        "projects = client.get_projects()\n",
        "\n",
        "display(Markdown(f'''\n",
        "---\n",
        "# Choose project from the below list:\n",
        "---\n",
        "'''))\n",
        "\n",
        "for i, project in enumerate(projects):\n",
        "  print(f'{i+1}. {project[\"project\"][\"title\"]} ')\n",
        "  \n",
        "project_no = int(input('Project no:'))-1\n",
        "project_name = projects[project_no-1][\"project\"][\"title\"]\n",
        "project_hash = projects[project_no-1][\"project\"][\"project_hash\"]"
      ],
      "metadata": {
        "id": "f7p5XibkjmSG"
      },
      "execution_count": null,
      "outputs": []
    },
    {
      "cell_type": "markdown",
      "source": [
        "# Open an [ngrok](https://dashboard.ngrok.com/signup) account, and paste your authtoken to the below cell"
      ],
      "metadata": {
        "id": "osJzmVBGGg2O"
      }
    },
    {
      "cell_type": "code",
      "execution_count": null,
      "metadata": {
        "id": "ZsVqcq9UX6jP"
      },
      "outputs": [],
      "source": [
        "!pip install -q pyngrok\n",
        "import getpass\n",
        "from pyngrok import ngrok, conf\n",
        "\n",
        "# From ngrok dashboard, copy your authtoken and paste it here\n",
        "ngrok.set_auth_token(<YOUR_AUTHTOKEN>)\n",
        "for tunnel in ngrok.get_tunnels():\n",
        "    ngrok.disconnect(tunnel.public_url)\n",
        "\n",
        "# Open a tunnel to the HTTP server\n",
        "connection_string = ngrok.connect(8501, headers={'ngrok-skip-browser-warning':'1'}).public_url\n",
        "\n",
        "display(Markdown(f'''\n",
        "---\n",
        "---\n",
        "---\n",
        "   \n",
        "# Click [this link]({connection_string}) and wait until this notebook finishes running, then refresh the page.\n",
        "   \n",
        "---\n",
        "---\n",
        "---\n",
        "'''\n",
        "))"
      ]
    },
    {
      "cell_type": "markdown",
      "metadata": {
        "id": "WO8IUmYu47a0"
      },
      "source": [
        "## Install python 3.9, acivate it, and install Encord-Active"
      ]
    },
    {
      "cell_type": "code",
      "execution_count": null,
      "metadata": {
        "id": "r6AfzNEESQAX"
      },
      "outputs": [],
      "source": [
        "!sudo apt-get -qq install python3.9 -q\n",
        "!sudo apt -qq install python3.9-distutils -q\n",
        "!sudo update-alternatives --install /usr/bin/python3 python3 /usr/bin/python3.9 10\n",
        "\n",
        "!sudo apt -qq install -q python3-pip\n",
        "!python -m pip install -q --upgrade pip\n",
        "!python -m pip install -q --upgrade setuptools wheel\n",
        "!python -m pip install -q encord-active"
      ]
    },
    {
      "cell_type": "markdown",
      "metadata": {
        "id": "37f1HUrZ5k8B"
      },
      "source": [
        "## Start the app"
      ]
    },
    {
      "cell_type": "code",
      "execution_count": null,
      "metadata": {
        "id": "KUVsAZqmf4_c"
      },
      "outputs": [],
      "source": [
        "!encord-active config set ssh_key_path '/content/ssh_key'\n",
        "!encord-active import project --project_hash=$project_hash\n",
        "!encord-active visualise --target=$project_name}"
      ]
    }
  ],
  "metadata": {
    "colab": {
      "provenance": []
    },
    "gpuClass": "standard",
    "kernelspec": {
      "display_name": "Python 3",
      "name": "python3"
    },
    "language_info": {
      "name": "python"
    }
  },
  "nbformat": 4,
  "nbformat_minor": 0
}
